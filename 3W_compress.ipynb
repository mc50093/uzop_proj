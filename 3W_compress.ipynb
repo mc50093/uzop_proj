{
 "cells": [
  {
   "cell_type": "markdown",
   "id": "3e8a61a1-2b11-4f05-b1e6-79e38c5cd395",
   "metadata": {},
   "source": [
    "### 3W compression notebook"
   ]
  },
  {
   "cell_type": "markdown",
   "id": "b7817a80-f18f-43d8-bf00-4821c12eec53",
   "metadata": {},
   "source": [
    "This notebook transforms the 3W dataset into a compressed version. The time series is down-sampled from entries everry second to ten seconds, by a locaal averrageg over this period. Aditionally, features P-CKGL and T-CKGL are removed from the dataset since they only appear in real instances."
   ]
  },
  {
   "cell_type": "code",
   "execution_count": 1,
   "id": "8db05f54-3df3-40aa-9632-15f8a5c7ba3a",
   "metadata": {},
   "outputs": [],
   "source": [
    "import pandas as pd\n",
    "import numpy as np\n",
    "from pathlib import Path"
   ]
  },
  {
   "cell_type": "code",
   "execution_count": 2,
   "id": "7e5eee65-8310-4a8d-a1c8-ba9b5aea50be",
   "metadata": {},
   "outputs": [],
   "source": [
    "data_path = Path('data')"
   ]
  },
  {
   "cell_type": "code",
   "execution_count": 10,
   "id": "7444557a-2aa5-4637-a885-cc46a48e7f58",
   "metadata": {},
   "outputs": [],
   "source": [
    "def class_and_file_generator(data_path, real=False, simulated=False, drawn=False):\n",
    "    for class_path in data_path.iterdir():\n",
    "        if class_path.is_dir():\n",
    "            class_code = int(class_path.stem)\n",
    "            for instance_path in class_path.iterdir():\n",
    "                if (instance_path.suffix == '.csv'):\n",
    "                    if (simulated and instance_path.stem.startswith('SIMULATED')) or \\\n",
    "                       (drawn and instance_path.stem.startswith('DRAWN')) or \\\n",
    "                       (real and (not instance_path.stem.startswith('SIMULATED')) and \\\n",
    "                       (not instance_path.stem.startswith('DRAWN'))):\n",
    "                        yield class_code, instance_path"
   ]
  },
  {
   "cell_type": "code",
   "execution_count": 96,
   "id": "0fb23a44-7820-40f9-a1e0-60fc3a517444",
   "metadata": {},
   "outputs": [],
   "source": [
    "real_instances = list(class_and_file_generator(data_path, real=True, simulated=False, drawn=False))\n",
    "simulated_instances = list(class_and_file_generator(data_path, real=False, simulated=True, drawn=False))\n",
    "drawn_instances = list(class_and_file_generator(data_path, real=False, simulated=False, drawn=True))"
   ]
  },
  {
   "cell_type": "code",
   "execution_count": 102,
   "id": "a10ad19f-efb5-4efd-a9e6-38f5912e3ede",
   "metadata": {},
   "outputs": [],
   "source": [
    "instances = real_instances + simulated_instances"
   ]
  },
  {
   "cell_type": "code",
   "execution_count": 103,
   "id": "ed7704ef-7fbe-4933-8abd-0b703eb4436d",
   "metadata": {},
   "outputs": [],
   "source": [
    "import os\n",
    "\n",
    "def create_dir_tree(root_dir):\n",
    "    os.mkdir(root_dir)\n",
    "    for i in range(0, 9):\n",
    "        path = os.path.join(root_dir, str(i))\n",
    "        os.mkdir(path)\n",
    "\n",
    "\n",
    "data_root_dir = \"data_transformed\"\n",
    "\n",
    "create_dir_tree(data_root_dir)\n",
    "\n",
    "for c, p in instances:\n",
    "    if c == 0:\n",
    "        df = pd.read_csv(p)\n",
    "        df['timestamp'] = pd.to_datetime(df['timestamp'])  #down-sampling\n",
    "        df = df.resample('10s', on='timestamp').mean()\n",
    "        df.drop('P-JUS-CKGL', inplace=True, axis=1)        #removing P-CKGL and T-CKGL attributes\n",
    "        df.drop('T-JUS-CKGL', inplace=True, axis=1)\n",
    "        path = os.path.join(data_root_dir, str(p)[5:])\n",
    "        df.to_csv(path)"
   ]
  },
  {
   "cell_type": "code",
   "execution_count": 50,
   "id": "fc13231b-e3d0-4da7-b559-2f03cb25cedb",
   "metadata": {},
   "outputs": [],
   "source": []
  },
  {
   "cell_type": "code",
   "execution_count": 13,
   "id": "be94c90a-e10d-4e12-ac2c-d55c3b94d364",
   "metadata": {},
   "outputs": [
    {
     "data": {
      "text/plain": [
       "1025"
      ]
     },
     "execution_count": 13,
     "metadata": {},
     "output_type": "execute_result"
    }
   ],
   "source": []
  },
  {
   "cell_type": "code",
   "execution_count": 15,
   "id": "f0d369a4-7020-47fc-bae1-be1dcbd2a820",
   "metadata": {},
   "outputs": [
    {
     "data": {
      "text/plain": [
       "1984"
      ]
     },
     "execution_count": 15,
     "metadata": {},
     "output_type": "execute_result"
    }
   ],
   "source": []
  },
  {
   "cell_type": "code",
   "execution_count": null,
   "id": "29e0ff0a-db62-4bc0-8e8f-6b59f82e0e09",
   "metadata": {},
   "outputs": [],
   "source": []
  }
 ],
 "metadata": {
  "kernelspec": {
   "display_name": "Python 3 (ipykernel)",
   "language": "python",
   "name": "python3"
  },
  "language_info": {
   "codemirror_mode": {
    "name": "ipython",
    "version": 3
   },
   "file_extension": ".py",
   "mimetype": "text/x-python",
   "name": "python",
   "nbconvert_exporter": "python",
   "pygments_lexer": "ipython3",
   "version": "3.8.5"
  }
 },
 "nbformat": 4,
 "nbformat_minor": 5
}
